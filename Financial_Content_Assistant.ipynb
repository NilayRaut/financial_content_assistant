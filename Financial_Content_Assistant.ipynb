{
  "cells": [
    {
      "cell_type": "markdown",
      "metadata": {
        "id": "Y52F-qQmbC1c"
      },
      "source": [
        "# 🧾 Financial Content Assistant - Project Notebook\n",
        "\n",
        "Welcome! This notebook walks through the complete process of building a Financial Content Assistant using Retrieval-Augmented Generation (RAG) with LangChain and OpenAI models.\n"
      ]
    },
    {
      "cell_type": "markdown",
      "metadata": {
        "id": "91IdFJRY8agd"
      },
      "source": [
        "# 📜 Abstract\n",
        "\n",
        "This project builds a **Financial Content Assistant** using Retrieval-Augmented Generation (RAG) architecture.  \n",
        "The system allows users to upload financial documents (PDFs, TXT files, spreadsheets) and ask natural language questions.  \n",
        "It intelligently retrieves relevant document sections and generates coherent, contextual answers using OpenAI’s models.  \n",
        "\n",
        "Key Features:\n",
        "- **Multi-file support:** PDF, TXT, CSV, XLSX\n",
        "- **Metadata extraction:** Date, Company Name, Document Type (e.g., 10-K, 10-Q).\n",
        "- **Document chunking:** Optimized retrieval granularity.\n",
        "- **Semantic Search:** Vector database-backed document retrieval.\n",
        "- **Interactive Assistant Interface:** User-friendly UI with badges for question type detection (e.g., Investment, Financial Analysis, etc.).\n",
        "- **Evaluation Metrics:** Assess answer quality and source attribution.\n",
        "\n",
        "This project demonstrates the application of advanced natural language processing techniques for intelligent financial document querying and content understanding.\n"
      ]
    },
    {
      "cell_type": "markdown",
      "metadata": {
        "id": "wywblOR1bJp3"
      },
      "source": [
        "## System Architecture\n",
        "![System Architecture](https://www.plantuml.com/plantuml/png/dLRVRzis47xNNt5eWMu3wjhDMYm3kg2UdHy6OjIBdRniUpYJ9vimJGeaLKSR-h-Ff4LBTk8QcG8e9E_xZhoFToT_jWwDAzSoiokX2ZIuXWBP2XSqTPKaCCHSoyOfnrAw6JswlXGBjIRbWFaNcHPgxZqiZ2uL7sYf3RpEuzD2ACq9_iq0Vdy2_JNy1Oisd4oz-Y4-kzNPKh2L8clXVVQjvRPlZDxiKmwCBUQxivRHBf7hZL0Bo55QoYJb3fm68nPB1rm47OHMMUQ4amIVvXTNGg5Y0YKCj791XxwrmZhqemvSFlebJXocbNKKDcTBuRoJqj2dxlmYotw0tuuytdHloS0eo9eZ8xZ5Yipt6FMTmIj_iEUuOSjNy9eZdUSi2lzdXFLBjoJb1CCGtL_gnozXvUodlm7jWJ5m_YZ9Xh5tNvGEti0TsK8hIvvvRP0BtPqwGxYMmcrz9CRzAF0zl9JEmb3OGcBb7TnunRIfF7yYjPDLTuok22CnZmuImFE_dT1ig5aPyt5YD2Dh_MM-JBXZ3f9w-JaZLgktmzxxqo9lzFQHN0b9NXNUlPcDRp_6C6hOLeLWXnjKNFeTGkJLk9mChxgJohzhxGCcGG8dL9oNQqmEEJeC-MMGrPTsHmjwx4vzBDMMdM0DAlWOB4kr2a6DDIybUU8jgiLWYKAzXVUzNgzxrkk1_af6Oh5rb2WdnNyWvhI18JgSetrXnZvBJgBd-LaI_Kj1gZ-2o_MSEFUdiZu4vuNfK5hf8CTEhrUBs02ZxFtHT9eEElKllts4HSF925Cc_-_qEkeW5UT7EkSVjf7kiBEg81YIetJNWz8wlOQxKfBTBx403TpGZaAst94pWhwYzAoPBZghxMtMh1gr0qKcigK_LVU1ZFKE_J0c5nVsBTngXZB9jdLHmqygbve4N9CY4vl9ovGxvg1HZlr2vrlbfWM5fYp-8Hw4NXSEPhGk93eAwJ96LQ9Cbakr48h8-2XYIFNwZj1Akkl9hDtj_BJpyxkFC2lDN4D_CehyW4gWU1XT6aRGTyw8UHdF_GO6miKGR62qRO5nQOmsgJcqAlN1XyInzX0khV8tiX1iksra9TBfHacvK0Ivr1iB6-6MmBGFc1n1Q1hHy3qF-zy5wCHlPEUYwN5fq9Zssbbx0XskDyeZdcbPJvSIkkbBQT1irIhwPfY8TQrdpMUf8UxLKNkIo4zhvd0XEKlx7BUdsgd_DuR333oODy1sghN63Q2TMQrn0sW-hGs_2NO_f_Pcpxd8FfFYuOVaVm00)"
      ]
    },
    {
      "cell_type": "markdown",
      "metadata": {
        "id": "-1Mpc5qaBuBB"
      },
      "source": [
        "\n",
        "## Table of Contents\n",
        "1. 📦 [Setup and Installations](#Setup-and-Installations)\n",
        "2. 🔑 [Configuration](#Configuration)\n",
        "3. 📄 [Uploading and Processing Documents](#Uploading-and-Processing-Documents)\n",
        "4. 🧠 [Metadata Extraction](#Metadata-Extraction)\n",
        "5. ✂️ [Splitting Documents](#Splitting-Documents)\n",
        "6. 🗃️ [Creating Vector Database](#Creating-Vector-Database)\n",
        "7. 🔗 [Retrieval-Augmented Generation (RAG) Chain](#Retrieval-Augmented-Generation-RAG-Chain)\n",
        "8. 📊 [Evaluation Metrics](#Evaluation-Metrics)\n",
        "9. 🧪 [Basic Testing](#Basic-Testing)\n",
        "10. 🚀 [Full Pipeline Execution](#Full-Pipeline-Execution)\n",
        "11. 💬 [Interactive Assistant Interface](#Interactive-Assistant-Interface)\n",
        "12. 🎯 [Final Launch](#Final-Launch)\n",
        "13. 💾 [Save Progress](#Save-Progress)\n",
        "\n",
        "---\n",
        "\n"
      ]
    },
    {
      "cell_type": "markdown",
      "metadata": {
        "id": "USqU6SJW0Bnp"
      },
      "source": [
        "# 📦 Setup and Installations\n",
        "<a id=\"Setup-and-Installations\"></a>\n",
        "\n",
        "This section installs and imports necessary libraries for Financial Content Assistant.\n"
      ]
    },
    {
      "cell_type": "code",
      "execution_count": null,
      "metadata": {
        "colab": {
          "base_uri": "https://localhost:8080/"
        },
        "collapsed": true,
        "id": "SvcS3u9Rz8w5",
        "outputId": "177d1bbe-fef4-4a70-d66b-5d60adb9b11f"
      },
      "outputs": [],
      "source": [
        "# Install necessary libraries\n",
        "!pip install langchain langchain-openai langchain-community openai faiss-cpu tiktoken pypdf\n",
        "!pip install sentence-transformers\n",
        "!pip install ipywidgets\n",
        "!pip install pypdf\n",
        "!pip install -U langchain-community pypdf"
      ]
    },
    {
      "cell_type": "code",
      "execution_count": null,
      "metadata": {
        "id": "LRg2UvCM3Asa"
      },
      "outputs": [],
      "source": [
        "# Import Required Libraries\n",
        "import os\n",
        "import getpass\n",
        "import tempfile\n",
        "from google.colab import files\n",
        "from IPython.display import clear_output\n",
        "from langchain.document_loaders import PyPDFLoader\n",
        "from langchain.schema import Document\n",
        "from langchain.text_splitter import RecursiveCharacterTextSplitter\n",
        "from langchain_community.document_loaders import PyPDFLoader\n",
        "from langchain_openai import OpenAIEmbeddings\n",
        "from langchain_community.vectorstores import FAISS\n",
        "from langchain_openai import ChatOpenAI\n",
        "from langchain.chains import RetrievalQA\n",
        "from langchain.prompts import PromptTemplate"
      ]
    },
    {
      "cell_type": "markdown",
      "metadata": {
        "id": "0TTwTw8P0M6W"
      },
      "source": [
        "# 🔑 Configuration\n",
        "This section sets up API keys and environment variables.\n"
      ]
    },
    {
      "cell_type": "code",
      "execution_count": null,
      "metadata": {
        "colab": {
          "base_uri": "https://localhost:8080/"
        },
        "id": "b7mIVGnp0Dmr",
        "outputId": "a578d2c4-67fb-44f4-81ab-35a6ee6511f3"
      },
      "outputs": [],
      "source": [
        "# Set OpenAI API Key\n",
        "import os\n",
        "import getpass\n",
        "\n",
        "# Securely input your API key (it won't be visible in the notebook)\n",
        "openai_api_key = getpass.getpass(\"Enter your OpenAI API Key: \")\n",
        "os.environ[\"OPENAI_API_KEY\"] = openai_api_key\n",
        "\n",
        "# Verify the key is set (this will only show \"True\" or \"False\", not the actual key)\n",
        "print(f\"API key is set: {bool(os.environ.get('OPENAI_API_KEY'))}\")"
      ]
    },
    {
      "cell_type": "markdown",
      "metadata": {
        "id": "4ztQIKCk0o5D"
      },
      "source": [
        "\n",
        "# 📄 Uploading and Processing Documents\n",
        "Upload your financial documents (PDF, TXT, CSV, XLSX) and prepare them for analysis.\n",
        "- Automatically detects file types\n",
        "- Handles different encodings\n",
        "- Converts spreadsheets to plain text\n"
      ]
    },
    {
      "cell_type": "code",
      "execution_count": null,
      "metadata": {
        "id": "zXs6ARFuZdPM"
      },
      "outputs": [],
      "source": []
    },
    {
      "cell_type": "code",
      "execution_count": null,
      "metadata": {
        "id": "sbTexFg3MMe4"
      },
      "outputs": [],
      "source": [
        "def upload_and_process_documents():\n",
        "    \"\"\"Upload and process financial documents (TXT, PDF, CSV, XLSX)\"\"\"\n",
        "    print(\"Upload your financial documents (TXT, PDF, CSV, or XLSX files)\")\n",
        "    uploaded = files.upload()\n",
        "\n",
        "    documents = []\n",
        "\n",
        "    for filename, content in uploaded.items():\n",
        "        try:\n",
        "            # Create a temporary file\n",
        "            _, file_extension = os.path.splitext(filename)\n",
        "            file_extension = file_extension.lower()\n",
        "            temp_file = tempfile.NamedTemporaryFile(delete=False, suffix=file_extension)\n",
        "\n",
        "            with open(temp_file.name, 'wb') as f:\n",
        "                f.write(content)\n",
        "\n",
        "            # Process based on file type\n",
        "            if file_extension == '.pdf':\n",
        "                print(f\"Processing PDF: {filename}\")\n",
        "                loader = PyPDFLoader(temp_file.name)\n",
        "                file_docs = loader.load()\n",
        "\n",
        "                for doc in file_docs:\n",
        "                    doc.metadata[\"source\"] = filename\n",
        "                    # Inside your document processing function, add:\n",
        "                    metadata = extract_metadata(doc, filename)\n",
        "                    doc.metadata.update(metadata)  # Add the extracted metadata\n",
        "\n",
        "                documents.extend(file_docs)\n",
        "                print(f\"Successfully loaded PDF: {filename} ({len(file_docs)} pages)\")\n",
        "\n",
        "            elif file_extension == '.txt':\n",
        "                print(f\"Processing TXT: {filename}\")\n",
        "                successful = False\n",
        "                for encoding in ['utf-8', 'latin-1', 'cp1252']:\n",
        "                    try:\n",
        "                        with open(temp_file.name, 'r', encoding=encoding) as f:\n",
        "                            text = f.read()\n",
        "\n",
        "                        doc = Document(\n",
        "                            page_content=text,\n",
        "                            metadata={\"source\": filename}\n",
        "                        )\n",
        "                        metadata = extract_metadata(doc, filename)\n",
        "                        doc.metadata.update(metadata)\n",
        "\n",
        "                        documents.append(doc)\n",
        "                        print(f\"Successfully loaded TXT: {filename} with {encoding} encoding\")\n",
        "                        successful = True\n",
        "                        break\n",
        "                    except UnicodeDecodeError:\n",
        "                        continue\n",
        "                if not successful:\n",
        "                    print(f\"Failed to decode {filename} with all attempted encodings\")\n",
        "\n",
        "            elif file_extension in ['.csv', '.xlsx', '.xls']:\n",
        "                print(f\"Processing spreadsheet: {filename}\")\n",
        "\n",
        "                if file_extension == '.csv':\n",
        "                    df = pd.read_csv(temp_file.name)\n",
        "                else:\n",
        "                    df = pd.read_excel(temp_file.name)\n",
        "\n",
        "                text = df.to_string(index=False)\n",
        "                doc = Document(\n",
        "                    page_content=text,\n",
        "                    metadata={\"source\": filename}\n",
        "                )\n",
        "                metadata = extract_metadata(doc, filename)\n",
        "                doc.metadata.update(metadata)\n",
        "\n",
        "                documents.append(doc)\n",
        "                print(f\"Successfully loaded spreadsheet: {filename}\")\n",
        "\n",
        "            else:\n",
        "                print(f\"Unsupported file type: {file_extension} for {filename}\")\n",
        "\n",
        "        except Exception as e:\n",
        "            print(f\"Error processing {filename}: {str(e)}\")\n",
        "\n",
        "        finally:\n",
        "            # Always clean up the temporary file\n",
        "            try:\n",
        "                os.unlink(temp_file.name)\n",
        "            except Exception as cleanup_error:\n",
        "                print(f\"Error deleting temp file: {cleanup_error}\")\n",
        "\n",
        "    return documents\n",
        "\n"
      ]
    },
    {
      "cell_type": "markdown",
      "metadata": {
        "id": "oIMyQfQn0Ov2"
      },
      "source": [
        "# 🧠 Metadata Extraction\n",
        "Extract metadata like date, company name, and document type from uploaded content.\n"
      ]
    },
    {
      "cell_type": "code",
      "execution_count": null,
      "metadata": {
        "id": "PziQyE4k0Meq"
      },
      "outputs": [],
      "source": [
        "def extract_metadata(document, filename):\n",
        "    \"\"\"Extract and add richer metadata to documents\"\"\"\n",
        "    metadata = {\"source\": filename}\n",
        "\n",
        "    # Extract date information if available\n",
        "    import re\n",
        "    date_patterns = [\n",
        "        r'(\\d{4}-\\d{2}-\\d{2})',  # YYYY-MM-DD\n",
        "        r'(\\d{2}/\\d{2}/\\d{4})',  # MM/DD/YYYY\n",
        "        r'(January|February|March|April|May|June|July|August|September|October|November|December)\\s+\\d{1,2},\\s+\\d{4}'  # Month DD, YYYY\n",
        "    ]\n",
        "\n",
        "    for pattern in date_patterns:\n",
        "        matches = re.findall(pattern, document.page_content[:1000])  # Look in first 1000 chars\n",
        "        if matches:\n",
        "            metadata[\"date\"] = matches[0]\n",
        "            break\n",
        "\n",
        "    # Extract company name if available\n",
        "    company_patterns = [\n",
        "        r'([A-Z][A-Za-z]+,?\\s+Inc\\.)',\n",
        "        r'([A-Z][A-Za-z]+\\s+Corporation)',\n",
        "        r'([A-Z][A-Za-z]+\\s+Company)'\n",
        "    ]\n",
        "\n",
        "    for pattern in company_patterns:\n",
        "        matches = re.findall(pattern, document.page_content[:1000])\n",
        "        if matches:\n",
        "            metadata[\"company\"] = matches[0]\n",
        "            break\n",
        "\n",
        "    # Add document type\n",
        "    if \"10-K\" in filename or \"10K\" in filename:\n",
        "        metadata[\"doc_type\"] = \"Annual Report\"\n",
        "    elif \"10-Q\" in filename or \"10Q\" in filename:\n",
        "        metadata[\"doc_type\"] = \"Quarterly Report\"\n",
        "\n",
        "    return metadata"
      ]
    },
    {
      "cell_type": "markdown",
      "metadata": {
        "id": "QWA1sOsH1bA0"
      },
      "source": [
        "# ✂️ Splitting Documents\n",
        "Split large documents into smaller manageable chunks:\n",
        "- Chunk Size: 1000 characters\n",
        "- Chunk Overlap: 200 characters\n",
        "\n",
        "Essential for high quality semantic search and RAG performance.\n",
        "\n",
        "# 🗃️ Creating Vector Database\n",
        "Use document embeddings to create a searchable vector store for fast semantic retrieval.\n"
      ]
    },
    {
      "cell_type": "code",
      "execution_count": null,
      "metadata": {
        "id": "eECs2dHj0qtR"
      },
      "outputs": [],
      "source": [
        "def split_documents(documents, chunk_size=1000, chunk_overlap=200):\n",
        "    \"\"\"Split documents into chunks for processing\"\"\"\n",
        "    if not documents:\n",
        "        print(\"No documents were successfully loaded.\")\n",
        "        return []\n",
        "\n",
        "    # Split documents\n",
        "    print(\"\\nSplitting documents into chunks...\")\n",
        "    text_splitter = RecursiveCharacterTextSplitter(\n",
        "        chunk_size=chunk_size,\n",
        "        chunk_overlap=chunk_overlap\n",
        "    )\n",
        "    chunks = text_splitter.split_documents(documents)\n",
        "    print(f\"Created {len(chunks)} chunks from {len(documents)} documents/pages\")\n",
        "    return chunks\n",
        "\n",
        "def create_vector_db(chunks):\n",
        "    \"\"\"Create a vector database from document chunks\"\"\"\n",
        "    if not chunks:\n",
        "        print(\"No chunks to create vector database with.\")\n",
        "        return None\n",
        "\n",
        "    # Create vector store with in-memory persistence\n",
        "    print(\"\\nCreating vector database...\")\n",
        "    embeddings = OpenAIEmbeddings()\n",
        "\n",
        "    # Use FAISS for in-memory storage to avoid SQLite issues in Colab\n",
        "    # vector_db = Chroma.from_documents(\n",
        "    #     documents=chunks,\n",
        "    #     embedding=embeddings,\n",
        "    #     persist_directory=None  # This forces in-memory storage\n",
        "    # )\n",
        "    vector_db = FAISS.from_documents(chunks, embeddings) # Changed to FAISS\n",
        "\n",
        "    print(\"Vector database created successfully!\")\n",
        "    return vector_db"
      ]
    },
    {
      "cell_type": "markdown",
      "metadata": {
        "id": "53IXLIQE1fCF"
      },
      "source": [
        "# 🔗 Retrieval-Augmented Generation (RAG) Chain\n",
        "Set up a LangChain chain that:\n",
        "- Retrieves top relevant chunks from the vector database\n",
        "- Passes them to OpenAI model to generate a final answer\n"
      ]
    },
    {
      "cell_type": "code",
      "execution_count": null,
      "metadata": {
        "id": "zv4VbudP1ccW"
      },
      "outputs": [],
      "source": [
        "def create_rag_chain(vector_db):\n",
        "    \"\"\"Create a RAG-based question answering chain\"\"\"\n",
        "    if not vector_db:\n",
        "        print(\"No vector database provided to create RAG chain!\")\n",
        "        return None\n",
        "\n",
        "    # Create QA chain\n",
        "    print(\"\\nCreating question-answering chain...\")\n",
        "    template = \"\"\"\n",
        "    You are a sophisticated financial analyst specializing in explaining financial information\n",
        "    from company reports and financial documents.\n",
        "\n",
        "    Use the following pieces of context to answer the user's question about financial data.\n",
        "    If you don't know the answer, just say that you don't know, don't try to make up an answer.\n",
        "\n",
        "    When describing financial information, be precise about numbers and date periods.\n",
        "    Clearly indicate which financial metrics come from which reporting periods.\n",
        "\n",
        "    Context:\n",
        "    {context}\n",
        "\n",
        "    Question: {question}\n",
        "\n",
        "    Answer:\n",
        "    \"\"\"\n",
        "\n",
        "    prompt = PromptTemplate(\n",
        "        template=template,\n",
        "        input_variables=[\"context\", \"question\"]\n",
        "    )\n",
        "\n",
        "    llm = ChatOpenAI(model_name=\"gpt-3.5-turbo\", temperature=0.3)\n",
        "\n",
        "    qa_chain = RetrievalQA.from_chain_type(\n",
        "        llm=llm,\n",
        "        chain_type=\"stuff\",\n",
        "        retriever=vector_db.as_retriever(search_kwargs={\"k\": 4}),\n",
        "        return_source_documents=True,\n",
        "        chain_type_kwargs={\"prompt\": prompt}\n",
        "    )\n",
        "\n",
        "    print(\"RAG chain created successfully!\")\n",
        "    return qa_chain"
      ]
    },
    {
      "cell_type": "markdown",
      "metadata": {
        "id": "3lPeVwyC7x2V"
      },
      "source": [
        "# 📊 Evaluation Metrics\n",
        "Functions to assess:\n",
        "- Answer correctness\n",
        "- Source reliability\n",
        "- Relevance\n",
        "Designed for improving system performance systematically.\n"
      ]
    },
    {
      "cell_type": "code",
      "execution_count": null,
      "metadata": {
        "id": "oWic1UfM7zj5"
      },
      "outputs": [],
      "source": [
        "def evaluate_response_quality(question, answer, sources):\n",
        "    \"\"\"Evaluate the quality of RAG responses\"\"\"\n",
        "    # Use ChatGPT to evaluate response quality\n",
        "    llm = ChatOpenAI(model_name=\"gpt-3.5-turbo\", temperature=0)\n",
        "\n",
        "    prompt = f\"\"\"\n",
        "    Evaluate the quality of this financial response:\n",
        "\n",
        "    Question: {question}\n",
        "\n",
        "    Answer: {answer}\n",
        "\n",
        "    Sources: {sources}\n",
        "\n",
        "    Rate on a scale of 1-10:\n",
        "    1. Accuracy (how factually correct)\n",
        "    2. Completeness (how comprehensive)\n",
        "    3. Relevance (how well it addresses the question)\n",
        "    4. Clarity (how easy to understand)\n",
        "\n",
        "    Format your response as JSON:\n",
        "    {{\n",
        "        \"accuracy\": X,\n",
        "        \"completeness\": X,\n",
        "        \"relevance\": X,\n",
        "        \"clarity\": X,\n",
        "        \"average\": X,\n",
        "        \"feedback\": \"brief feedback\"\n",
        "    }}\n",
        "    \"\"\"\n",
        "\n",
        "    try:\n",
        "        response = llm.invoke(prompt)\n",
        "        evaluation = json.loads(response.content)\n",
        "        return evaluation\n",
        "    except:\n",
        "        return {\n",
        "            \"accuracy\": 0,\n",
        "            \"completeness\": 0,\n",
        "            \"relevance\": 0,\n",
        "            \"clarity\": 0,\n",
        "            \"average\": 0,\n",
        "            \"feedback\": \"Error evaluating response\"\n",
        "        }"
      ]
    },
    {
      "cell_type": "markdown",
      "metadata": {
        "id": "Fid-_Svw5Fra"
      },
      "source": [
        "# 🧪 Basic Testing\n",
        "Run quick tests on the Assistant to validate pipeline correctness.\n"
      ]
    },
    {
      "cell_type": "code",
      "execution_count": null,
      "metadata": {
        "id": "O91IuEb41gi-"
      },
      "outputs": [],
      "source": [
        "def test_financial_assistant(qa_chain, question):\n",
        "    \"\"\"Test the financial assistant with a sample question\"\"\"\n",
        "    if not qa_chain:\n",
        "        print(\"No QA chain available!\")\n",
        "        return\n",
        "\n",
        "    print(f\"\\nQuestion: {question}\")\n",
        "    print(\"\\nSearching and generating response...\")\n",
        "\n",
        "    try:\n",
        "        result = qa_chain({\"query\": question})\n",
        "\n",
        "        print(\"\\n======= ANSWER =======\")\n",
        "        print(result[\"result\"])\n",
        "        print(\"\\n======= SOURCES =======\")\n",
        "\n",
        "        sources_seen = set()\n",
        "        for i, doc in enumerate(result[\"source_documents\"][:3]):  # Show top 3 sources\n",
        "            source = doc.metadata.get(\"source\", \"Unknown\")\n",
        "            page = doc.metadata.get(\"page\", \"\")\n",
        "            page_info = f\" (Page {page})\" if page != \"\" else \"\"\n",
        "\n",
        "            if source not in sources_seen:\n",
        "                sources_seen.add(source)\n",
        "                print(f\"- {source}{page_info}\")\n",
        "\n",
        "    except Exception as e:\n",
        "        print(f\"Error generating response: {str(e)}\")"
      ]
    },
    {
      "cell_type": "markdown",
      "metadata": {
        "id": "u86GY2585JxX"
      },
      "source": [
        "# 🚀 Full Pipeline Execution\n",
        "Upload → Metadata → Chunk → Embed → RAG → Query\n",
        "\n",
        "The entire system comes together here!\n"
      ]
    },
    {
      "cell_type": "code",
      "execution_count": null,
      "metadata": {
        "colab": {
          "base_uri": "https://localhost:8080/",
          "height": 947
        },
        "id": "7FZQ9ayB5HIS",
        "outputId": "a4f544a0-be57-4536-daa2-7d68b020f666"
      },
      "outputs": [],
      "source": [
        "# Main execution flow\n",
        "print(\"==== Financial Content Assistant Setup ====\")\n",
        "print(\"This assistant helps answer financial questions based on your documents\\n\")\n",
        "\n",
        "# Step 1: Upload and process documents\n",
        "print(\"Step 1: Upload and process documents\")\n",
        "documents = upload_and_process_documents()\n",
        "\n",
        "if not documents:\n",
        "    print(\"No documents were loaded. Please run this cell again and upload documents.\")\n",
        "else:\n",
        "    # Step 2: Split documents into chunks\n",
        "    print(\"\\nStep 2: Creating document chunks for semantic search\")\n",
        "    chunks = split_documents(documents)\n",
        "\n",
        "    if not chunks:\n",
        "        print(\"No document chunks were created. Please check your documents.\")\n",
        "    else:\n",
        "        # Step 3: Create vector database\n",
        "        print(\"\\nStep 3: Creating vector database for semantic search\")\n",
        "        vector_db = create_vector_db(chunks)\n",
        "\n",
        "        # Step 4: Create RAG chain\n",
        "        print(\"\\nStep 4: Creating the RAG-based question answering system\")\n",
        "        qa_chain = create_rag_chain(vector_db)\n",
        "\n",
        "        print(\"\\n==== Setup Complete! ====\")\n",
        "        print(\"You can now test your financial assistant with a sample question.\")\n",
        "\n",
        "        # Optional: Test with a sample question\n",
        "        sample_question = \"What are the main financial highlights from these documents?\"\n",
        "        print(\"\\nTesting with a sample question:\")\n",
        "        test_financial_assistant(qa_chain, sample_question)\n",
        "\n",
        "        print(\"\\nSetup complete! Run the interactive interface below to ask more questions.\")"
      ]
    },
    {
      "cell_type": "markdown",
      "metadata": {
        "id": "bEab9XwXBZ13"
      },
      "source": [
        "# 💬 Interactive Assistant Interface\n",
        "Run the enhanced chatbot UI:\n",
        "- Detects financial question type\n",
        "- Specialized visual formatting (badges)\n",
        "- Chat history summary and visualization\n",
        "\n"
      ]
    },
    {
      "cell_type": "code",
      "execution_count": null,
      "metadata": {
        "id": "maZDkufa5LHj"
      },
      "outputs": [],
      "source": [
        "# Interactive Interface\n",
        "def interactive_financial_assistant(qa_chain):\n",
        "    \"\"\"Interactive interface for the financial assistant\"\"\"\n",
        "    if not qa_chain:\n",
        "        print(\"No QA chain available. Please set up the assistant first.\")\n",
        "        return\n",
        "\n",
        "    print(\"\\n===== Financial Content Assistant =====\")\n",
        "    print(\"Type your financial questions below. Type 'exit' to quit.\")\n",
        "\n",
        "    while True:\n",
        "        question = input(\"\\nYour question: \")\n",
        "\n",
        "        if question.lower() in ['exit', 'quit', 'q']:\n",
        "            print(\"Thank you for using the Financial Content Assistant!\")\n",
        "            break\n",
        "\n",
        "        if not question.strip():\n",
        "            continue\n",
        "\n",
        "        try:\n",
        "            # Clear previous output for better readability\n",
        "            clear_output(wait=True)\n",
        "\n",
        "            print(\"===== Financial Content Assistant =====\")\n",
        "            print(f\"Question: {question}\")\n",
        "            print(\"\\nProcessing...\")\n",
        "\n",
        "            result = qa_chain({\"query\": question})\n",
        "\n",
        "            print(\"\\nAnswer:\")\n",
        "            print(result[\"result\"])\n",
        "\n",
        "            print(\"\\nSources:\")\n",
        "            sources_seen = set()\n",
        "            for doc in result[\"source_documents\"][:3]:  # Show top 3 sources\n",
        "                source = doc.metadata.get(\"source\", \"Unknown\")\n",
        "                page = doc.metadata.get(\"page\", \"\")\n",
        "                page_info = f\" (Page {page})\" if page != \"\" else \"\"\n",
        "\n",
        "                if source not in sources_seen:\n",
        "                    sources_seen.add(source)\n",
        "                    print(f\"- {source}{page_info}\")\n",
        "\n",
        "            print(\"\\nType your next question or 'exit' to quit.\")\n",
        "\n",
        "        except Exception as e:\n",
        "            print(f\"Error: {str(e)}\")\n",
        "            print(\"\\nType your next question or 'exit' to quit.\")\n"
      ]
    },
    {
      "cell_type": "markdown",
      "metadata": {
        "id": "f7bOJspwCAUx"
      },
      "source": [
        "# 🎯 Final Launch\n",
        "Launch the enhanced financial assistant with all features activated.\n"
      ]
    },
    {
      "cell_type": "code",
      "execution_count": null,
      "metadata": {
        "colab": {
          "base_uri": "https://localhost:8080/"
        },
        "id": "CfQtYEyRBbRR",
        "outputId": "fd2d7e58-3cbc-481d-96cc-ee5e3574f8d0"
      },
      "outputs": [],
      "source": [
        "# Run the interactive assistant\n",
        "try:\n",
        "    # This will only run if qa_chain exists from the previous cell\n",
        "    interactive_financial_assistant(qa_chain)\n",
        "except NameError:\n",
        "    print(\"You need to run the setup cell first to create the qa_chain.\")\n",
        "    print(\"Please run the previous cell and then run this cell again.\")"
      ]
    },
    {
      "cell_type": "markdown",
      "metadata": {
        "id": "hUu9sGBKBQbI"
      },
      "source": [
        "##Now that we've  successfully built the core RAG functionality.\n",
        "\n",
        "##Let's enhance it with a polished UI, additional features, and testing capabilities.\n",
        "\n",
        "##Here's a step-by-step plan that continues"
      ]
    },
    {
      "cell_type": "code",
      "execution_count": null,
      "metadata": {
        "id": "WY4rTHwkEPC2"
      },
      "outputs": [],
      "source": [
        "# 📦 Import Required Libraries\n",
        "from IPython.display import clear_output, HTML, display\n",
        "import ipywidgets as widgets\n",
        "import pandas as pd\n",
        "import matplotlib.pyplot as plt\n",
        "import datetime\n",
        "import numpy as np\n",
        "import time\n",
        "from google.colab import files\n"
      ]
    },
    {
      "cell_type": "markdown",
      "metadata": {
        "id": "qtVI6JTVEUNZ"
      },
      "source": [
        "#Define Utility Functions"
      ]
    },
    {
      "cell_type": "code",
      "execution_count": null,
      "metadata": {
        "id": "qphd2d_FEe20"
      },
      "outputs": [],
      "source": [
        "# 💬 Utility Functions\n",
        "\n",
        "def show_loading_animation():\n",
        "    \"\"\"Display a simple loading animation in the output area\"\"\"\n",
        "    with output_area:\n",
        "        for _ in range(3):\n",
        "            for dots in [\".\", \"..\", \"...\"]:\n",
        "                clear_output(wait=True)\n",
        "                display(HTML(f\"<div style='color:#666;'><i>Processing{dots}</i></div>\"))\n",
        "                time.sleep(0.3)\n",
        "\n",
        "def detect_question_type(question):\n",
        "    question_lower = question.lower()\n",
        "    if any(term in question_lower for term in [\n",
        "        \"analyze\", \"analysis\", \"performance\", \"how did\", \"how well\",\n",
        "        \"financial results\", \"compare\", \"trend\", \"growth\"\n",
        "    ]):\n",
        "        return \"financial_analysis\"\n",
        "    if any(term in question_lower for term in [\n",
        "        \"invest\", \"stock\", \"share\", \"dividend\", \"return\", \"portfolio\",\n",
        "        \"should i\", \"worth\", \"recommendation\", \"outlook\"\n",
        "    ]):\n",
        "        return \"investment\"\n",
        "    if any(pattern in question_lower for pattern in [\n",
        "        \"what is\", \"what are\", \"define\", \"explain\", \"meaning of\", \"definition\",\n",
        "        \"describe\", \"elaborate on\", \"tell me about\", \"how does\", \"concept of\"\n",
        "    ]):\n",
        "        return \"term_explanation\"\n",
        "    return \"general\"\n"
      ]
    },
    {
      "cell_type": "markdown",
      "metadata": {
        "id": "2j3R7NJaEh7i"
      },
      "source": [
        "#Define Core Assistant Logic"
      ]
    },
    {
      "cell_type": "code",
      "execution_count": null,
      "metadata": {
        "id": "xIqEHk_REi_6"
      },
      "outputs": [],
      "source": [
        "# 🧠 Core Assistant Logic\n",
        "\n",
        "def enhanced_query_assistant(question):\n",
        "    question_type = detect_question_type(question)\n",
        "    result = qa_chain({\"query\": question})\n",
        "\n",
        "    sources = []\n",
        "    sources_seen = set()\n",
        "    for doc in result[\"source_documents\"]:\n",
        "        source = doc.metadata.get(\"source\", \"Unknown\")\n",
        "        page = doc.metadata.get(\"page\", \"\")\n",
        "        page_info = f\" (Page {page})\" if page != \"\" else \"\"\n",
        "        source_citation = f\"{source}{page_info}\"\n",
        "        if source_citation not in sources_seen:\n",
        "            sources_seen.add(source_citation)\n",
        "            sources.append(source_citation)\n",
        "\n",
        "    return {\n",
        "        \"answer\": result[\"result\"],\n",
        "        \"sources\": sources[:3],\n",
        "        \"question_type\": question_type\n",
        "    }\n"
      ]
    },
    {
      "cell_type": "markdown",
      "metadata": {
        "id": "wbMm8gPtElBU"
      },
      "source": [
        "#Define UI Widgets"
      ]
    },
    {
      "cell_type": "code",
      "execution_count": null,
      "metadata": {
        "id": "493KyPTfEnSI"
      },
      "outputs": [],
      "source": [
        "# Initialize chat history\n",
        "if 'chat_history' not in globals():\n",
        "    global chat_history\n",
        "    chat_history = []\n",
        "\n",
        "# Create UI widgets\n",
        "question_input = widgets.Text(\n",
        "    placeholder='Ask a financial question...', description='Question:', layout=widgets.Layout(width='70%')\n",
        ")\n",
        "ask_button = widgets.Button(\n",
        "    description='Ask', button_style='primary', tooltip='Ask your question', layout=widgets.Layout(width='15%')\n",
        ")\n",
        "clear_button = widgets.Button(\n",
        "    description='Clear Chat', button_style='danger', tooltip='Clear chat history', layout=widgets.Layout(width='15%')\n",
        ")\n",
        "output_area = widgets.Output(\n",
        "    layout={'border': '1px solid #ddd', 'padding': '10px', 'height': '400px', 'overflow': 'auto'}\n",
        ")\n",
        "chat_summary_button = widgets.Button(\n",
        "    description='View Chat Summary', button_style='info', tooltip='View all chat history'\n",
        ")"
      ]
    },
    {
      "cell_type": "markdown",
      "metadata": {
        "id": "9PzfF9a2Epow"
      },
      "source": [
        "#Button Functions"
      ]
    },
    {
      "cell_type": "code",
      "execution_count": null,
      "metadata": {
        "id": "ZECdguCqEqb4"
      },
      "outputs": [],
      "source": [
        "def on_ask_clicked(b):\n",
        "    question = question_input.value\n",
        "    if not question.strip():\n",
        "        return\n",
        "    question_input.value = ''\n",
        "    with output_area:\n",
        "        display(HTML(f\"<div style='background-color:#f0f0f0; padding:10px;'><b>You:</b> {question}</div>\"))\n",
        "        show_loading_animation()\n",
        "        try:\n",
        "            result = enhanced_query_assistant(question)\n",
        "            clear_output()\n",
        "            display(HTML(f\"<div style='background-color:#f0f0f0; padding:10px;'><b>You:</b> {question}</div>\"))\n",
        "            badge = \"\"\n",
        "            if result[\"question_type\"] == \"financial_analysis\":\n",
        "                badge = \"<span style='background-color:#007bff; color:white; padding:3px 6px;'>Financial Analysis</span>\"\n",
        "            elif result[\"question_type\"] == \"investment\":\n",
        "                badge = \"<span style='background-color:#28a745; color:white; padding:3px 6px;'>Investment</span>\"\n",
        "            elif result[\"question_type\"] == \"term_explanation\":\n",
        "                badge = \"<span style='background-color:#ffc107; color:black; padding:3px 6px;'>Term Explanation</span>\"\n",
        "            else:\n",
        "                badge = \"<span style='background-color:#6c757d; color:white; padding:3px 6px;'>General</span>\"\n",
        "            display(HTML(f\"<div style='background-color:#e6f7ff; padding:10px;'><b>Financial Assistant{badge}:</b> {result['answer']}</div>\"))\n",
        "            sources_html = \", \".join(result[\"sources\"])\n",
        "            display(HTML(f\"<div style='font-size:12px; color:#666;'>Sources: {sources_html}</div>\"))\n",
        "            chat_history.append({\n",
        "                \"question\": question,\n",
        "                \"answer\": result[\"answer\"],\n",
        "                \"sources\": result[\"sources\"],\n",
        "                \"question_type\": result[\"question_type\"]\n",
        "            })\n",
        "        except Exception as e:\n",
        "            clear_output()\n",
        "            display(HTML(f\"<div style='color:red;'>Error: {str(e)}</div>\"))\n",
        "\n",
        "def on_clear_clicked(b):\n",
        "    with output_area:\n",
        "        clear_output()\n",
        "        chat_history.clear()\n",
        "        display(HTML(\"<div style='color:#666;'>Chat history cleared.</div>\"))\n",
        "\n",
        "ask_button.on_click(on_ask_clicked)\n",
        "clear_button.on_click(on_clear_clicked)"
      ]
    },
    {
      "cell_type": "markdown",
      "metadata": {
        "id": "hRI8dNdAEtPP"
      },
      "source": [
        "#Visualization, Summary, Export, Help"
      ]
    },
    {
      "cell_type": "code",
      "execution_count": null,
      "metadata": {
        "id": "59CCCopNEuMc"
      },
      "outputs": [],
      "source": [
        "# def display_chat_summary():\n",
        "\n",
        "def display_chat_summary():\n",
        "    if not chat_history:\n",
        "        print(\"No chat history to display.\")\n",
        "        return\n",
        "    summary_data = []\n",
        "    for i, exchange in enumerate(chat_history):\n",
        "        summary_data.append({\n",
        "            \"Q#\": i+1,\n",
        "            \"Question\": exchange[\"question\"][:50] + \"...\" if len(exchange[\"question\"]) > 50 else exchange[\"question\"],\n",
        "            \"Type\": exchange[\"question_type\"].replace(\"_\", \" \").title(),\n",
        "            \"Sources\": \", \".join([s.split(\" (Page\")[0] for s in exchange[\"sources\"]])\n",
        "        })\n",
        "    display(pd.DataFrame(summary_data))\n",
        "\n",
        "\n",
        "def add_visualization_tab():\n",
        "    output = widgets.Output()\n",
        "    with output:\n",
        "        labels = ['Financial Analysis', 'Investment', 'Term Explanation', 'General']\n",
        "        counts = [\n",
        "            sum(1 for item in chat_history if item['question_type'] == 'financial_analysis'),\n",
        "            sum(1 for item in chat_history if item['question_type'] == 'investment'),\n",
        "            sum(1 for item in chat_history if item['question_type'] == 'term_explanation'),\n",
        "            sum(1 for item in chat_history if item['question_type'] == 'general')\n",
        "        ]\n",
        "        plt.figure(figsize=(10, 6))\n",
        "        plt.bar(labels, counts, color=['#007bff', '#28a745', '#ffc107', '#6c757d'])\n",
        "        plt.title('Questions by Type')\n",
        "        plt.xlabel('Question Type')\n",
        "        plt.ylabel('Count')\n",
        "        plt.tight_layout()\n",
        "        plt.show()\n",
        "    return output\n",
        "\n",
        "def add_export_functionality():\n",
        "    \"\"\"Add functionality to export conversation history\"\"\"\n",
        "    def export_to_markdown():\n",
        "        \"\"\"Export chat history to markdown file\"\"\"\n",
        "        markdown_content = \"# Financial Content Assistant - Chat History\\n\\n\"\n",
        "        markdown_content += f\"Generated on: {datetime.datetime.now().strftime('%Y-%m-%d %H:%M:%S')}\\n\\n\"\n",
        "\n",
        "        for i, exchange in enumerate(chat_history):\n",
        "            markdown_content += f\"## Q{i+1}: {exchange['question']}\\n\\n\"\n",
        "            markdown_content += f\"**Question Type**: {exchange['question_type'].replace('_', ' ').title()}\\n\\n\"\n",
        "            markdown_content += f\"### Answer:\\n\\n{exchange['answer']}\\n\\n\"\n",
        "            markdown_content += f\"**Sources**: {', '.join(exchange['sources'])}\\n\\n\"\n",
        "            markdown_content += \"---\\n\\n\"\n",
        "\n",
        "        # Save to file\n",
        "        filename = \"financial_assistant_history.md\"\n",
        "        with open(filename, \"w\") as f:\n",
        "            f.write(markdown_content)\n",
        "        return filename\n",
        "    export_button = widgets.Button(\n",
        "        description='Export to Markdown', button_style='success', tooltip='Export chat history'\n",
        "    )\n",
        "    def on_export_clicked(b):\n",
        "        filename = export_to_markdown()\n",
        "        print(f\"Exported chat history to {filename}\")\n",
        "        files.download(filename)\n",
        "    export_button.on_click(on_export_clicked)\n",
        "    return export_button\n",
        "\n",
        "#Add Help Section\n",
        "def add_help_section():\n",
        "    output = widgets.Output()\n",
        "    with output:\n",
        "        display(HTML(\"\"\"\n",
        "        <div style=\"padding: 20px; background-color: #f9f9f9; border-radius: 10px;\">\n",
        "            <h2>Financial Content Assistant - Help</h2>\n",
        "            <p>This application uses RAG to answer questions based on your documents.</p>\n",
        "        </div>\n",
        "        \"\"\"))\n",
        "    return output\n",
        "\n",
        "chat_summary_button.on_click(lambda b: display_chat_summary())"
      ]
    },
    {
      "cell_type": "markdown",
      "metadata": {
        "id": "53pJbZ6IWyVp"
      },
      "source": [
        "#Financial Assistant Function"
      ]
    },
    {
      "cell_type": "code",
      "execution_count": null,
      "metadata": {
        "id": "P83STmbTWBbl"
      },
      "outputs": [],
      "source": [
        "def run_enhanced_financial_assistant():\n",
        "    \"\"\"Launch the full financial assistant UI\"\"\"\n",
        "    display(HTML(\"\"\"\n",
        "    <div style='background-color:#4CAF50; color:white; padding:15px; border-radius:10px; margin-bottom:15px;'>\n",
        "        <h2 style='margin:0;'>Enhanced Financial Content Assistant</h2>\n",
        "        <p style='margin:5px 0 0 0;'>Ask questions about your financial documents with advanced features</p>\n",
        "    </div>\n",
        "    \"\"\"))\n",
        "\n",
        "    input_area = widgets.HBox([question_input, ask_button, clear_button])\n",
        "    display(input_area)\n",
        "\n",
        "    with output_area:\n",
        "        clear_output(wait=True)\n",
        "        display(HTML(\"<div style='color:#666;'>Welcome to your Enhanced Financial Content Assistant! Ask any question about your uploaded documents.</div>\"))\n",
        "\n",
        "    export_button = add_export_functionality()\n",
        "\n",
        "    chat_tab = widgets.VBox([\n",
        "        output_area,\n",
        "        widgets.HBox([chat_summary_button, export_button], layout=widgets.Layout(margin='10px 0 0 0'))\n",
        "    ])\n",
        "\n",
        "    tabs = widgets.Tab()\n",
        "    tabs.children = [chat_tab, add_visualization_tab(), add_help_section()]\n",
        "    for i, title in enumerate([\"Chat\", \"Visualization\", \"Help\"]):\n",
        "        tabs.set_title(i, title)\n",
        "\n",
        "    display(tabs)\n",
        "\n",
        "    print(\"\\nEnhanced Financial Content Assistant launched successfully!\")\n"
      ]
    },
    {
      "cell_type": "markdown",
      "metadata": {
        "id": "5bR92RgxEwV1"
      },
      "source": [
        "#Final Launch - Run Interface\n"
      ]
    },
    {
      "cell_type": "code",
      "execution_count": null,
      "metadata": {
        "colab": {
          "base_uri": "https://localhost:8080/",
          "height": 862,
          "referenced_widgets": [
            "948ac67fed8b426597ea3dc45d1078fb",
            "d1c6e70bfcaa4433a7119f565802cf27",
            "2d21c52b22be4e01b99460ef49d5783e",
            "6412d5c838bc4737a7b1a038ed2dc86c",
            "8718444142f24d328df7bbc2b81f86b8",
            "81ced3f9e334408cb6f9f72123ea2e28",
            "0fc879fcb9b0486db3e0a4b58ad651ed",
            "7e74b51080fa4c03932711e867de1d8c",
            "28802b12597844cc9669d3de62367d42",
            "3948c4c3556244d390e41b99f8aa08ce",
            "7e18fdca7abc4176bb08a779d701edbb",
            "41b2db1b11ae40978ea1f9a0b4553baf",
            "f1e82bdd28f245808869fc4ddaaf396c",
            "3dbd9d60328c431d87167f88a4033e98",
            "3d22e5212b564464b136998e3bf7dc37",
            "2c221cdb8eca461babd3590ed9d24da7",
            "d0da7f8432ad4ed7be7bd1fef116b478",
            "6fd598edb522414280c646efd4068a99",
            "09fe7ba2f176457e9ee34fedfbc8e6cb",
            "e16def87a59f4a5da3367007dc20de44",
            "0e10aaa3ff5c48d8a7faf615cd9428cb",
            "8b3bc3ecc1de48f8856678e038b18604",
            "091368569cf64f33b7cf9ee7ee78c4fa",
            "f8549ac0fae0495a8fa9a67cb2e7baa9",
            "369b5ea857f145318e86e04af5675130",
            "fd9900c6f3b94019b27c7acc1c72dfd5",
            "75d3e8634a08483cbb91fa340f4d8d10",
            "ff3a12b2292e49a1ae1e49ca173ecac0",
            "7ea6bb0a6bb14b9097d69d6a1414791b"
          ]
        },
        "id": "1ycp3f5WSW2C",
        "outputId": "3c5cabef-4954-45bb-8a93-14709910899c"
      },
      "outputs": [],
      "source": [
        "run_enhanced_financial_assistant()\n"
      ]
    }
  ],
  "metadata": {
    "colab": {
      "gpuType": "A100",
      "provenance": []
    },
    "kernelspec": {
      "display_name": "Python 3",
      "name": "python3"
    },
    "language_info": {
      "name": "python"
    },
    "widgets": {
      "application/vnd.jupyter.widget-state+json": {
        "091368569cf64f33b7cf9ee7ee78c4fa": {
          "model_module": "@jupyter-widgets/base",
          "model_module_version": "1.2.0",
          "model_name": "LayoutModel",
          "state": {
            "_model_module": "@jupyter-widgets/base",
            "_model_module_version": "1.2.0",
            "_model_name": "LayoutModel",
            "_view_count": null,
            "_view_module": "@jupyter-widgets/base",
            "_view_module_version": "1.2.0",
            "_view_name": "LayoutView",
            "align_content": null,
            "align_items": null,
            "align_self": null,
            "border": null,
            "bottom": null,
            "display": null,
            "flex": null,
            "flex_flow": null,
            "grid_area": null,
            "grid_auto_columns": null,
            "grid_auto_flow": null,
            "grid_auto_rows": null,
            "grid_column": null,
            "grid_gap": null,
            "grid_row": null,
            "grid_template_areas": null,
            "grid_template_columns": null,
            "grid_template_rows": null,
            "height": null,
            "justify_content": null,
            "justify_items": null,
            "left": null,
            "margin": null,
            "max_height": null,
            "max_width": null,
            "min_height": null,
            "min_width": null,
            "object_fit": null,
            "object_position": null,
            "order": null,
            "overflow": null,
            "overflow_x": null,
            "overflow_y": null,
            "padding": null,
            "right": null,
            "top": null,
            "visibility": null,
            "width": null
          }
        },
        "09fe7ba2f176457e9ee34fedfbc8e6cb": {
          "model_module": "@jupyter-widgets/base",
          "model_module_version": "1.2.0",
          "model_name": "LayoutModel",
          "state": {
            "_model_module": "@jupyter-widgets/base",
            "_model_module_version": "1.2.0",
            "_model_name": "LayoutModel",
            "_view_count": null,
            "_view_module": "@jupyter-widgets/base",
            "_view_module_version": "1.2.0",
            "_view_name": "LayoutView",
            "align_content": null,
            "align_items": null,
            "align_self": null,
            "border": null,
            "bottom": null,
            "display": null,
            "flex": null,
            "flex_flow": null,
            "grid_area": null,
            "grid_auto_columns": null,
            "grid_auto_flow": null,
            "grid_auto_rows": null,
            "grid_column": null,
            "grid_gap": null,
            "grid_row": null,
            "grid_template_areas": null,
            "grid_template_columns": null,
            "grid_template_rows": null,
            "height": null,
            "justify_content": null,
            "justify_items": null,
            "left": null,
            "margin": null,
            "max_height": null,
            "max_width": null,
            "min_height": null,
            "min_width": null,
            "object_fit": null,
            "object_position": null,
            "order": null,
            "overflow": null,
            "overflow_x": null,
            "overflow_y": null,
            "padding": null,
            "right": null,
            "top": null,
            "visibility": null,
            "width": null
          }
        },
        "0e10aaa3ff5c48d8a7faf615cd9428cb": {
          "model_module": "@jupyter-widgets/controls",
          "model_module_version": "1.5.0",
          "model_name": "ButtonModel",
          "state": {
            "_dom_classes": [],
            "_model_module": "@jupyter-widgets/controls",
            "_model_module_version": "1.5.0",
            "_model_name": "ButtonModel",
            "_view_count": null,
            "_view_module": "@jupyter-widgets/controls",
            "_view_module_version": "1.5.0",
            "_view_name": "ButtonView",
            "button_style": "success",
            "description": "Export to Markdown",
            "disabled": false,
            "icon": "",
            "layout": "IPY_MODEL_369b5ea857f145318e86e04af5675130",
            "style": "IPY_MODEL_fd9900c6f3b94019b27c7acc1c72dfd5",
            "tooltip": "Export chat history"
          }
        },
        "0fc879fcb9b0486db3e0a4b58ad651ed": {
          "model_module": "@jupyter-widgets/controls",
          "model_module_version": "1.5.0",
          "model_name": "DescriptionStyleModel",
          "state": {
            "_model_module": "@jupyter-widgets/controls",
            "_model_module_version": "1.5.0",
            "_model_name": "DescriptionStyleModel",
            "_view_count": null,
            "_view_module": "@jupyter-widgets/base",
            "_view_module_version": "1.2.0",
            "_view_name": "StyleView",
            "description_width": ""
          }
        },
        "28802b12597844cc9669d3de62367d42": {
          "model_module": "@jupyter-widgets/controls",
          "model_module_version": "1.5.0",
          "model_name": "ButtonStyleModel",
          "state": {
            "_model_module": "@jupyter-widgets/controls",
            "_model_module_version": "1.5.0",
            "_model_name": "ButtonStyleModel",
            "_view_count": null,
            "_view_module": "@jupyter-widgets/base",
            "_view_module_version": "1.2.0",
            "_view_name": "StyleView",
            "button_color": null,
            "font_weight": ""
          }
        },
        "2c221cdb8eca461babd3590ed9d24da7": {
          "model_module": "@jupyter-widgets/base",
          "model_module_version": "1.2.0",
          "model_name": "LayoutModel",
          "state": {
            "_model_module": "@jupyter-widgets/base",
            "_model_module_version": "1.2.0",
            "_model_name": "LayoutModel",
            "_view_count": null,
            "_view_module": "@jupyter-widgets/base",
            "_view_module_version": "1.2.0",
            "_view_name": "LayoutView",
            "align_content": null,
            "align_items": null,
            "align_self": null,
            "border": null,
            "bottom": null,
            "display": null,
            "flex": null,
            "flex_flow": null,
            "grid_area": null,
            "grid_auto_columns": null,
            "grid_auto_flow": null,
            "grid_auto_rows": null,
            "grid_column": null,
            "grid_gap": null,
            "grid_row": null,
            "grid_template_areas": null,
            "grid_template_columns": null,
            "grid_template_rows": null,
            "height": null,
            "justify_content": null,
            "justify_items": null,
            "left": null,
            "margin": null,
            "max_height": null,
            "max_width": null,
            "min_height": null,
            "min_width": null,
            "object_fit": null,
            "object_position": null,
            "order": null,
            "overflow": null,
            "overflow_x": null,
            "overflow_y": null,
            "padding": null,
            "right": null,
            "top": null,
            "visibility": null,
            "width": null
          }
        },
        "2d21c52b22be4e01b99460ef49d5783e": {
          "model_module": "@jupyter-widgets/controls",
          "model_module_version": "1.5.0",
          "model_name": "ButtonModel",
          "state": {
            "_dom_classes": [],
            "_model_module": "@jupyter-widgets/controls",
            "_model_module_version": "1.5.0",
            "_model_name": "ButtonModel",
            "_view_count": null,
            "_view_module": "@jupyter-widgets/controls",
            "_view_module_version": "1.5.0",
            "_view_name": "ButtonView",
            "button_style": "primary",
            "description": "Ask",
            "disabled": false,
            "icon": "",
            "layout": "IPY_MODEL_7e74b51080fa4c03932711e867de1d8c",
            "style": "IPY_MODEL_28802b12597844cc9669d3de62367d42",
            "tooltip": "Ask your question"
          }
        },
        "369b5ea857f145318e86e04af5675130": {
          "model_module": "@jupyter-widgets/base",
          "model_module_version": "1.2.0",
          "model_name": "LayoutModel",
          "state": {
            "_model_module": "@jupyter-widgets/base",
            "_model_module_version": "1.2.0",
            "_model_name": "LayoutModel",
            "_view_count": null,
            "_view_module": "@jupyter-widgets/base",
            "_view_module_version": "1.2.0",
            "_view_name": "LayoutView",
            "align_content": null,
            "align_items": null,
            "align_self": null,
            "border": null,
            "bottom": null,
            "display": null,
            "flex": null,
            "flex_flow": null,
            "grid_area": null,
            "grid_auto_columns": null,
            "grid_auto_flow": null,
            "grid_auto_rows": null,
            "grid_column": null,
            "grid_gap": null,
            "grid_row": null,
            "grid_template_areas": null,
            "grid_template_columns": null,
            "grid_template_rows": null,
            "height": null,
            "justify_content": null,
            "justify_items": null,
            "left": null,
            "margin": null,
            "max_height": null,
            "max_width": null,
            "min_height": null,
            "min_width": null,
            "object_fit": null,
            "object_position": null,
            "order": null,
            "overflow": null,
            "overflow_x": null,
            "overflow_y": null,
            "padding": null,
            "right": null,
            "top": null,
            "visibility": null,
            "width": null
          }
        },
        "3948c4c3556244d390e41b99f8aa08ce": {
          "model_module": "@jupyter-widgets/base",
          "model_module_version": "1.2.0",
          "model_name": "LayoutModel",
          "state": {
            "_model_module": "@jupyter-widgets/base",
            "_model_module_version": "1.2.0",
            "_model_name": "LayoutModel",
            "_view_count": null,
            "_view_module": "@jupyter-widgets/base",
            "_view_module_version": "1.2.0",
            "_view_name": "LayoutView",
            "align_content": null,
            "align_items": null,
            "align_self": null,
            "border": null,
            "bottom": null,
            "display": null,
            "flex": null,
            "flex_flow": null,
            "grid_area": null,
            "grid_auto_columns": null,
            "grid_auto_flow": null,
            "grid_auto_rows": null,
            "grid_column": null,
            "grid_gap": null,
            "grid_row": null,
            "grid_template_areas": null,
            "grid_template_columns": null,
            "grid_template_rows": null,
            "height": null,
            "justify_content": null,
            "justify_items": null,
            "left": null,
            "margin": null,
            "max_height": null,
            "max_width": null,
            "min_height": null,
            "min_width": null,
            "object_fit": null,
            "object_position": null,
            "order": null,
            "overflow": null,
            "overflow_x": null,
            "overflow_y": null,
            "padding": null,
            "right": null,
            "top": null,
            "visibility": null,
            "width": "15%"
          }
        },
        "3d22e5212b564464b136998e3bf7dc37": {
          "model_module": "@jupyter-widgets/output",
          "model_module_version": "1.0.0",
          "model_name": "OutputModel",
          "state": {
            "_dom_classes": [],
            "_model_module": "@jupyter-widgets/output",
            "_model_module_version": "1.0.0",
            "_model_name": "OutputModel",
            "_view_count": null,
            "_view_module": "@jupyter-widgets/output",
            "_view_module_version": "1.0.0",
            "_view_name": "OutputView",
            "layout": "IPY_MODEL_ff3a12b2292e49a1ae1e49ca173ecac0",
            "msg_id": "",
            "outputs": [
              {
                "data": {
                  "text/html": "\n        <div style=\"padding: 20px; background-color: #f9f9f9; border-radius: 10px;\">\n            <h2>Financial Content Assistant - Help</h2>\n            <p>This application uses RAG to answer questions based on your documents.</p>\n        </div>\n        ",
                  "text/plain": "<IPython.core.display.HTML object>"
                },
                "metadata": {},
                "output_type": "display_data"
              }
            ]
          }
        },
        "3dbd9d60328c431d87167f88a4033e98": {
          "model_module": "@jupyter-widgets/output",
          "model_module_version": "1.0.0",
          "model_name": "OutputModel",
          "state": {
            "_dom_classes": [],
            "_model_module": "@jupyter-widgets/output",
            "_model_module_version": "1.0.0",
            "_model_name": "OutputModel",
            "_view_count": null,
            "_view_module": "@jupyter-widgets/output",
            "_view_module_version": "1.0.0",
            "_view_name": "OutputView",
            "layout": "IPY_MODEL_75d3e8634a08483cbb91fa340f4d8d10",
            "msg_id": "",
            "outputs": [
              {
                "data": {
                  "image/png": "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\n",
                  "text/plain": "<Figure size 1000x600 with 1 Axes>"
                },
                "metadata": {},
                "output_type": "display_data"
              }
            ]
          }
        },
        "41b2db1b11ae40978ea1f9a0b4553baf": {
          "model_module": "@jupyter-widgets/controls",
          "model_module_version": "1.5.0",
          "model_name": "TabModel",
          "state": {
            "_dom_classes": [],
            "_model_module": "@jupyter-widgets/controls",
            "_model_module_version": "1.5.0",
            "_model_name": "TabModel",
            "_titles": {
              "0": "Chat",
              "1": "Visualization",
              "2": "Help"
            },
            "_view_count": null,
            "_view_module": "@jupyter-widgets/controls",
            "_view_module_version": "1.5.0",
            "_view_name": "TabView",
            "box_style": "",
            "children": [
              "IPY_MODEL_f1e82bdd28f245808869fc4ddaaf396c",
              "IPY_MODEL_3dbd9d60328c431d87167f88a4033e98",
              "IPY_MODEL_3d22e5212b564464b136998e3bf7dc37"
            ],
            "layout": "IPY_MODEL_2c221cdb8eca461babd3590ed9d24da7",
            "selected_index": 0
          }
        },
        "6412d5c838bc4737a7b1a038ed2dc86c": {
          "model_module": "@jupyter-widgets/controls",
          "model_module_version": "1.5.0",
          "model_name": "ButtonModel",
          "state": {
            "_dom_classes": [],
            "_model_module": "@jupyter-widgets/controls",
            "_model_module_version": "1.5.0",
            "_model_name": "ButtonModel",
            "_view_count": null,
            "_view_module": "@jupyter-widgets/controls",
            "_view_module_version": "1.5.0",
            "_view_name": "ButtonView",
            "button_style": "danger",
            "description": "Clear Chat",
            "disabled": false,
            "icon": "",
            "layout": "IPY_MODEL_3948c4c3556244d390e41b99f8aa08ce",
            "style": "IPY_MODEL_7e18fdca7abc4176bb08a779d701edbb",
            "tooltip": "Clear chat history"
          }
        },
        "6fd598edb522414280c646efd4068a99": {
          "model_module": "@jupyter-widgets/controls",
          "model_module_version": "1.5.0",
          "model_name": "HBoxModel",
          "state": {
            "_dom_classes": [],
            "_model_module": "@jupyter-widgets/controls",
            "_model_module_version": "1.5.0",
            "_model_name": "HBoxModel",
            "_view_count": null,
            "_view_module": "@jupyter-widgets/controls",
            "_view_module_version": "1.5.0",
            "_view_name": "HBoxView",
            "box_style": "",
            "children": [
              "IPY_MODEL_e16def87a59f4a5da3367007dc20de44",
              "IPY_MODEL_0e10aaa3ff5c48d8a7faf615cd9428cb"
            ],
            "layout": "IPY_MODEL_8b3bc3ecc1de48f8856678e038b18604"
          }
        },
        "75d3e8634a08483cbb91fa340f4d8d10": {
          "model_module": "@jupyter-widgets/base",
          "model_module_version": "1.2.0",
          "model_name": "LayoutModel",
          "state": {
            "_model_module": "@jupyter-widgets/base",
            "_model_module_version": "1.2.0",
            "_model_name": "LayoutModel",
            "_view_count": null,
            "_view_module": "@jupyter-widgets/base",
            "_view_module_version": "1.2.0",
            "_view_name": "LayoutView",
            "align_content": null,
            "align_items": null,
            "align_self": null,
            "border": null,
            "bottom": null,
            "display": null,
            "flex": null,
            "flex_flow": null,
            "grid_area": null,
            "grid_auto_columns": null,
            "grid_auto_flow": null,
            "grid_auto_rows": null,
            "grid_column": null,
            "grid_gap": null,
            "grid_row": null,
            "grid_template_areas": null,
            "grid_template_columns": null,
            "grid_template_rows": null,
            "height": null,
            "justify_content": null,
            "justify_items": null,
            "left": null,
            "margin": null,
            "max_height": null,
            "max_width": null,
            "min_height": null,
            "min_width": null,
            "object_fit": null,
            "object_position": null,
            "order": null,
            "overflow": null,
            "overflow_x": null,
            "overflow_y": null,
            "padding": null,
            "right": null,
            "top": null,
            "visibility": null,
            "width": null
          }
        },
        "7e18fdca7abc4176bb08a779d701edbb": {
          "model_module": "@jupyter-widgets/controls",
          "model_module_version": "1.5.0",
          "model_name": "ButtonStyleModel",
          "state": {
            "_model_module": "@jupyter-widgets/controls",
            "_model_module_version": "1.5.0",
            "_model_name": "ButtonStyleModel",
            "_view_count": null,
            "_view_module": "@jupyter-widgets/base",
            "_view_module_version": "1.2.0",
            "_view_name": "StyleView",
            "button_color": null,
            "font_weight": ""
          }
        },
        "7e74b51080fa4c03932711e867de1d8c": {
          "model_module": "@jupyter-widgets/base",
          "model_module_version": "1.2.0",
          "model_name": "LayoutModel",
          "state": {
            "_model_module": "@jupyter-widgets/base",
            "_model_module_version": "1.2.0",
            "_model_name": "LayoutModel",
            "_view_count": null,
            "_view_module": "@jupyter-widgets/base",
            "_view_module_version": "1.2.0",
            "_view_name": "LayoutView",
            "align_content": null,
            "align_items": null,
            "align_self": null,
            "border": null,
            "bottom": null,
            "display": null,
            "flex": null,
            "flex_flow": null,
            "grid_area": null,
            "grid_auto_columns": null,
            "grid_auto_flow": null,
            "grid_auto_rows": null,
            "grid_column": null,
            "grid_gap": null,
            "grid_row": null,
            "grid_template_areas": null,
            "grid_template_columns": null,
            "grid_template_rows": null,
            "height": null,
            "justify_content": null,
            "justify_items": null,
            "left": null,
            "margin": null,
            "max_height": null,
            "max_width": null,
            "min_height": null,
            "min_width": null,
            "object_fit": null,
            "object_position": null,
            "order": null,
            "overflow": null,
            "overflow_x": null,
            "overflow_y": null,
            "padding": null,
            "right": null,
            "top": null,
            "visibility": null,
            "width": "15%"
          }
        },
        "7ea6bb0a6bb14b9097d69d6a1414791b": {
          "model_module": "@jupyter-widgets/base",
          "model_module_version": "1.2.0",
          "model_name": "LayoutModel",
          "state": {
            "_model_module": "@jupyter-widgets/base",
            "_model_module_version": "1.2.0",
            "_model_name": "LayoutModel",
            "_view_count": null,
            "_view_module": "@jupyter-widgets/base",
            "_view_module_version": "1.2.0",
            "_view_name": "LayoutView",
            "align_content": null,
            "align_items": null,
            "align_self": null,
            "border": "1px solid #ddd",
            "bottom": null,
            "display": null,
            "flex": null,
            "flex_flow": null,
            "grid_area": null,
            "grid_auto_columns": null,
            "grid_auto_flow": null,
            "grid_auto_rows": null,
            "grid_column": null,
            "grid_gap": null,
            "grid_row": null,
            "grid_template_areas": null,
            "grid_template_columns": null,
            "grid_template_rows": null,
            "height": "400px",
            "justify_content": null,
            "justify_items": null,
            "left": null,
            "margin": null,
            "max_height": null,
            "max_width": null,
            "min_height": null,
            "min_width": null,
            "object_fit": null,
            "object_position": null,
            "order": null,
            "overflow": "auto",
            "overflow_x": null,
            "overflow_y": null,
            "padding": "10px",
            "right": null,
            "top": null,
            "visibility": null,
            "width": null
          }
        },
        "81ced3f9e334408cb6f9f72123ea2e28": {
          "model_module": "@jupyter-widgets/base",
          "model_module_version": "1.2.0",
          "model_name": "LayoutModel",
          "state": {
            "_model_module": "@jupyter-widgets/base",
            "_model_module_version": "1.2.0",
            "_model_name": "LayoutModel",
            "_view_count": null,
            "_view_module": "@jupyter-widgets/base",
            "_view_module_version": "1.2.0",
            "_view_name": "LayoutView",
            "align_content": null,
            "align_items": null,
            "align_self": null,
            "border": null,
            "bottom": null,
            "display": null,
            "flex": null,
            "flex_flow": null,
            "grid_area": null,
            "grid_auto_columns": null,
            "grid_auto_flow": null,
            "grid_auto_rows": null,
            "grid_column": null,
            "grid_gap": null,
            "grid_row": null,
            "grid_template_areas": null,
            "grid_template_columns": null,
            "grid_template_rows": null,
            "height": null,
            "justify_content": null,
            "justify_items": null,
            "left": null,
            "margin": null,
            "max_height": null,
            "max_width": null,
            "min_height": null,
            "min_width": null,
            "object_fit": null,
            "object_position": null,
            "order": null,
            "overflow": null,
            "overflow_x": null,
            "overflow_y": null,
            "padding": null,
            "right": null,
            "top": null,
            "visibility": null,
            "width": "70%"
          }
        },
        "8718444142f24d328df7bbc2b81f86b8": {
          "model_module": "@jupyter-widgets/base",
          "model_module_version": "1.2.0",
          "model_name": "LayoutModel",
          "state": {
            "_model_module": "@jupyter-widgets/base",
            "_model_module_version": "1.2.0",
            "_model_name": "LayoutModel",
            "_view_count": null,
            "_view_module": "@jupyter-widgets/base",
            "_view_module_version": "1.2.0",
            "_view_name": "LayoutView",
            "align_content": null,
            "align_items": null,
            "align_self": null,
            "border": null,
            "bottom": null,
            "display": null,
            "flex": null,
            "flex_flow": null,
            "grid_area": null,
            "grid_auto_columns": null,
            "grid_auto_flow": null,
            "grid_auto_rows": null,
            "grid_column": null,
            "grid_gap": null,
            "grid_row": null,
            "grid_template_areas": null,
            "grid_template_columns": null,
            "grid_template_rows": null,
            "height": null,
            "justify_content": null,
            "justify_items": null,
            "left": null,
            "margin": null,
            "max_height": null,
            "max_width": null,
            "min_height": null,
            "min_width": null,
            "object_fit": null,
            "object_position": null,
            "order": null,
            "overflow": null,
            "overflow_x": null,
            "overflow_y": null,
            "padding": null,
            "right": null,
            "top": null,
            "visibility": null,
            "width": null
          }
        },
        "8b3bc3ecc1de48f8856678e038b18604": {
          "model_module": "@jupyter-widgets/base",
          "model_module_version": "1.2.0",
          "model_name": "LayoutModel",
          "state": {
            "_model_module": "@jupyter-widgets/base",
            "_model_module_version": "1.2.0",
            "_model_name": "LayoutModel",
            "_view_count": null,
            "_view_module": "@jupyter-widgets/base",
            "_view_module_version": "1.2.0",
            "_view_name": "LayoutView",
            "align_content": null,
            "align_items": null,
            "align_self": null,
            "border": null,
            "bottom": null,
            "display": null,
            "flex": null,
            "flex_flow": null,
            "grid_area": null,
            "grid_auto_columns": null,
            "grid_auto_flow": null,
            "grid_auto_rows": null,
            "grid_column": null,
            "grid_gap": null,
            "grid_row": null,
            "grid_template_areas": null,
            "grid_template_columns": null,
            "grid_template_rows": null,
            "height": null,
            "justify_content": null,
            "justify_items": null,
            "left": null,
            "margin": "10px 0 0 0",
            "max_height": null,
            "max_width": null,
            "min_height": null,
            "min_width": null,
            "object_fit": null,
            "object_position": null,
            "order": null,
            "overflow": null,
            "overflow_x": null,
            "overflow_y": null,
            "padding": null,
            "right": null,
            "top": null,
            "visibility": null,
            "width": null
          }
        },
        "948ac67fed8b426597ea3dc45d1078fb": {
          "model_module": "@jupyter-widgets/controls",
          "model_module_version": "1.5.0",
          "model_name": "HBoxModel",
          "state": {
            "_dom_classes": [],
            "_model_module": "@jupyter-widgets/controls",
            "_model_module_version": "1.5.0",
            "_model_name": "HBoxModel",
            "_view_count": null,
            "_view_module": "@jupyter-widgets/controls",
            "_view_module_version": "1.5.0",
            "_view_name": "HBoxView",
            "box_style": "",
            "children": [
              "IPY_MODEL_d1c6e70bfcaa4433a7119f565802cf27",
              "IPY_MODEL_2d21c52b22be4e01b99460ef49d5783e",
              "IPY_MODEL_6412d5c838bc4737a7b1a038ed2dc86c"
            ],
            "layout": "IPY_MODEL_8718444142f24d328df7bbc2b81f86b8"
          }
        },
        "d0da7f8432ad4ed7be7bd1fef116b478": {
          "model_module": "@jupyter-widgets/output",
          "model_module_version": "1.0.0",
          "model_name": "OutputModel",
          "state": {
            "_dom_classes": [],
            "_model_module": "@jupyter-widgets/output",
            "_model_module_version": "1.0.0",
            "_model_name": "OutputModel",
            "_view_count": null,
            "_view_module": "@jupyter-widgets/output",
            "_view_module_version": "1.0.0",
            "_view_name": "OutputView",
            "layout": "IPY_MODEL_7ea6bb0a6bb14b9097d69d6a1414791b",
            "msg_id": "",
            "outputs": [
              {
                "data": {
                  "text/html": "<div style='background-color:#f0f0f0; padding:10px;'><b>You:</b> what is the total libility</div>",
                  "text/plain": "<IPython.core.display.HTML object>"
                },
                "metadata": {},
                "output_type": "display_data"
              },
              {
                "data": {
                  "text/html": "<div style='background-color:#e6f7ff; padding:10px;'><b>Financial Assistant<span style='background-color:#ffc107; color:black; padding:3px 6px;'>Term Explanation</span>:</b> The total liability for Jane Street Execution Services, LLC as of December 31, 2023, is $32,320,631.</div>",
                  "text/plain": "<IPython.core.display.HTML object>"
                },
                "metadata": {},
                "output_type": "display_data"
              },
              {
                "data": {
                  "text/html": "<div style='font-size:12px; color:#666;'>Sources: jsespublic2023.pdf (Page 6), jsespublic2023.pdf (Page 5), jsespublic2023.pdf (Page 3)</div>",
                  "text/plain": "<IPython.core.display.HTML object>"
                },
                "metadata": {},
                "output_type": "display_data"
              }
            ]
          }
        },
        "d1c6e70bfcaa4433a7119f565802cf27": {
          "model_module": "@jupyter-widgets/controls",
          "model_module_version": "1.5.0",
          "model_name": "TextModel",
          "state": {
            "_dom_classes": [],
            "_model_module": "@jupyter-widgets/controls",
            "_model_module_version": "1.5.0",
            "_model_name": "TextModel",
            "_view_count": null,
            "_view_module": "@jupyter-widgets/controls",
            "_view_module_version": "1.5.0",
            "_view_name": "TextView",
            "continuous_update": true,
            "description": "Question:",
            "description_tooltip": null,
            "disabled": false,
            "layout": "IPY_MODEL_81ced3f9e334408cb6f9f72123ea2e28",
            "placeholder": "Ask a financial question...",
            "style": "IPY_MODEL_0fc879fcb9b0486db3e0a4b58ad651ed",
            "value": ""
          }
        },
        "e16def87a59f4a5da3367007dc20de44": {
          "model_module": "@jupyter-widgets/controls",
          "model_module_version": "1.5.0",
          "model_name": "ButtonModel",
          "state": {
            "_dom_classes": [],
            "_model_module": "@jupyter-widgets/controls",
            "_model_module_version": "1.5.0",
            "_model_name": "ButtonModel",
            "_view_count": null,
            "_view_module": "@jupyter-widgets/controls",
            "_view_module_version": "1.5.0",
            "_view_name": "ButtonView",
            "button_style": "info",
            "description": "View Chat Summary",
            "disabled": false,
            "icon": "",
            "layout": "IPY_MODEL_091368569cf64f33b7cf9ee7ee78c4fa",
            "style": "IPY_MODEL_f8549ac0fae0495a8fa9a67cb2e7baa9",
            "tooltip": "View all chat history"
          }
        },
        "f1e82bdd28f245808869fc4ddaaf396c": {
          "model_module": "@jupyter-widgets/controls",
          "model_module_version": "1.5.0",
          "model_name": "VBoxModel",
          "state": {
            "_dom_classes": [],
            "_model_module": "@jupyter-widgets/controls",
            "_model_module_version": "1.5.0",
            "_model_name": "VBoxModel",
            "_view_count": null,
            "_view_module": "@jupyter-widgets/controls",
            "_view_module_version": "1.5.0",
            "_view_name": "VBoxView",
            "box_style": "",
            "children": [
              "IPY_MODEL_d0da7f8432ad4ed7be7bd1fef116b478",
              "IPY_MODEL_6fd598edb522414280c646efd4068a99"
            ],
            "layout": "IPY_MODEL_09fe7ba2f176457e9ee34fedfbc8e6cb"
          }
        },
        "f8549ac0fae0495a8fa9a67cb2e7baa9": {
          "model_module": "@jupyter-widgets/controls",
          "model_module_version": "1.5.0",
          "model_name": "ButtonStyleModel",
          "state": {
            "_model_module": "@jupyter-widgets/controls",
            "_model_module_version": "1.5.0",
            "_model_name": "ButtonStyleModel",
            "_view_count": null,
            "_view_module": "@jupyter-widgets/base",
            "_view_module_version": "1.2.0",
            "_view_name": "StyleView",
            "button_color": null,
            "font_weight": ""
          }
        },
        "fd9900c6f3b94019b27c7acc1c72dfd5": {
          "model_module": "@jupyter-widgets/controls",
          "model_module_version": "1.5.0",
          "model_name": "ButtonStyleModel",
          "state": {
            "_model_module": "@jupyter-widgets/controls",
            "_model_module_version": "1.5.0",
            "_model_name": "ButtonStyleModel",
            "_view_count": null,
            "_view_module": "@jupyter-widgets/base",
            "_view_module_version": "1.2.0",
            "_view_name": "StyleView",
            "button_color": null,
            "font_weight": ""
          }
        },
        "ff3a12b2292e49a1ae1e49ca173ecac0": {
          "model_module": "@jupyter-widgets/base",
          "model_module_version": "1.2.0",
          "model_name": "LayoutModel",
          "state": {
            "_model_module": "@jupyter-widgets/base",
            "_model_module_version": "1.2.0",
            "_model_name": "LayoutModel",
            "_view_count": null,
            "_view_module": "@jupyter-widgets/base",
            "_view_module_version": "1.2.0",
            "_view_name": "LayoutView",
            "align_content": null,
            "align_items": null,
            "align_self": null,
            "border": null,
            "bottom": null,
            "display": null,
            "flex": null,
            "flex_flow": null,
            "grid_area": null,
            "grid_auto_columns": null,
            "grid_auto_flow": null,
            "grid_auto_rows": null,
            "grid_column": null,
            "grid_gap": null,
            "grid_row": null,
            "grid_template_areas": null,
            "grid_template_columns": null,
            "grid_template_rows": null,
            "height": null,
            "justify_content": null,
            "justify_items": null,
            "left": null,
            "margin": null,
            "max_height": null,
            "max_width": null,
            "min_height": null,
            "min_width": null,
            "object_fit": null,
            "object_position": null,
            "order": null,
            "overflow": null,
            "overflow_x": null,
            "overflow_y": null,
            "padding": null,
            "right": null,
            "top": null,
            "visibility": null,
            "width": null
          }
        }
      }
    }
  },
  "nbformat": 4,
  "nbformat_minor": 0
}
